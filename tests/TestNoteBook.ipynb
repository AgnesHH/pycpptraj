{
 "metadata": {
  "name": "",
  "signature": "sha256:ed89c89d195e6a9ec9f6fd0819c0700121c05960e0130142c4ea95f0ab4d6006"
 },
 "nbformat": 3,
 "nbformat_minor": 0,
 "worksheets": [
  {
   "cells": [
    {
     "cell_type": "code",
     "collapsed": false,
     "input": [
      "import pycpptraj\n",
      "from pycpptraj import io as mdio"
     ],
     "language": "python",
     "metadata": {},
     "outputs": [],
     "prompt_number": 1
    },
    {
     "cell_type": "code",
     "collapsed": false,
     "input": [
      "traj = mdio.load(\"./data/md1_prod.Tc5b.x\", \"./data/Tc5b.top\")[:]"
     ],
     "language": "python",
     "metadata": {},
     "outputs": [],
     "prompt_number": 2
    },
    {
     "cell_type": "code",
     "collapsed": false,
     "input": [
      "# test memoryview\n",
      "#print traj[0, :, :]\n",
      "arr0 = traj[0:1, :, :]"
     ],
     "language": "python",
     "metadata": {},
     "outputs": [],
     "prompt_number": 3
    },
    {
     "cell_type": "code",
     "collapsed": false,
     "input": [
      "print traj[0, 0, 0]\n",
      "arr0[0][0, 0] = 100.\n",
      "print traj[0, 0, 0]\n",
      "print arr0[0][0, 0]\n",
      "print type(arr0)"
     ],
     "language": "python",
     "metadata": {},
     "outputs": [
      {
       "output_type": "stream",
       "stream": "stdout",
       "text": [
        "-16.492\n",
        "-16.492\n",
        "100.0\n",
        "<type 'numpy.ndarray'>\n"
       ]
      }
     ],
     "prompt_number": 4
    },
    {
     "cell_type": "code",
     "collapsed": false,
     "input": [
      "print type(arr0)"
     ],
     "language": "python",
     "metadata": {},
     "outputs": [
      {
       "output_type": "stream",
       "stream": "stdout",
       "text": [
        "<type 'numpy.ndarray'>\n"
       ]
      }
     ],
     "prompt_number": 5
    },
    {
     "cell_type": "code",
     "collapsed": false,
     "input": [
      "arr1 = traj[:, 0, 0]\n",
      "print arr1"
     ],
     "language": "python",
     "metadata": {},
     "outputs": [
      {
       "output_type": "stream",
       "stream": "stdout",
       "text": [
        "[-16.492  12.434 -11.018]\n"
       ]
      }
     ],
     "prompt_number": 6
    },
    {
     "cell_type": "code",
     "collapsed": false,
     "input": [
      "print arr1\n",
      "print arr1.shape\n",
      "arr1[0] = 2.3\n",
      "print traj[:, 0, 0]\n",
      "print arr1\n",
      "print type(arr1)\n",
      "frame0 = traj[0]\n",
      "arr2 = frame0[:]\n",
      "print arr2[0]\n",
      "arr2[0, 0] = 2.93\n",
      "print arr2[0, 0]\n",
      "print frame0[0, 0]\n",
      "print arr1[0]\n",
      "print arr1[:]"
     ],
     "language": "python",
     "metadata": {},
     "outputs": [
      {
       "output_type": "stream",
       "stream": "stdout",
       "text": [
        "[-16.492  12.434 -11.018]\n",
        "(3,)\n",
        "[-16.492  12.434 -11.018]"
       ]
      },
      {
       "output_type": "stream",
       "stream": "stdout",
       "text": [
        "\n",
        "[ 4.967  3.693 -0.122]\n",
        "<type 'numpy.ndarray'>\n",
        "[-16.492  12.434 -11.018]\n",
        "2.93\n",
        "2.93\n",
        "4.967\n",
        "[ 4.967  3.693 -0.122]\n"
       ]
      }
     ],
     "prompt_number": 7
    },
    {
     "cell_type": "code",
     "collapsed": false,
     "input": [
      "arr3 = traj[0, :]"
     ],
     "language": "python",
     "metadata": {},
     "outputs": [],
     "prompt_number": 8
    },
    {
     "cell_type": "code",
     "collapsed": false,
     "input": [
      "print arr3[0, 0]"
     ],
     "language": "python",
     "metadata": {},
     "outputs": [
      {
       "output_type": "stream",
       "stream": "stdout",
       "text": [
        "2.93\n"
       ]
      }
     ],
     "prompt_number": 9
    },
    {
     "cell_type": "code",
     "collapsed": false,
     "input": [
      "arr3[0, 0] = 100.\n",
      "print traj[0, :][0]\n",
      "print arr2[0, 0]\n",
      "print frame0[0, 0]"
     ],
     "language": "python",
     "metadata": {},
     "outputs": [
      {
       "output_type": "stream",
       "stream": "stdout",
       "text": [
        "[ 100.      12.434  -11.018]\n",
        "100.0\n",
        "100.0\n"
       ]
      }
     ],
     "prompt_number": 10
    },
    {
     "cell_type": "code",
     "collapsed": false,
     "input": [
      "print frame0.buffer1d[:3]\n",
      "print frame0.buffer3d[0]\n",
      "print frame0.atoms(0)\n"
     ],
     "language": "python",
     "metadata": {},
     "outputs": [
      {
       "output_type": "stream",
       "stream": "stdout",
       "text": [
        "<MemoryView of 'array' object>\n",
        "<MemoryView of 'array' object>\n",
        "array('d', [100.0, 12.434, -11.018])\n"
       ]
      }
     ],
     "prompt_number": 11
    },
    {
     "cell_type": "code",
     "collapsed": false,
     "input": [
      "arr4 = traj[0:3, 2, :]\n",
      "print type(arr4)"
     ],
     "language": "python",
     "metadata": {},
     "outputs": [
      {
       "output_type": "stream",
       "stream": "stdout",
       "text": [
        "<type 'numpy.ndarray'>\n"
       ]
      }
     ],
     "prompt_number": 12
    },
    {
     "cell_type": "code",
     "collapsed": false,
     "input": [
      "print arr4.shape"
     ],
     "language": "python",
     "metadata": {},
     "outputs": [
      {
       "output_type": "stream",
       "stream": "stdout",
       "text": [
        "(304, 3)\n"
       ]
      }
     ],
     "prompt_number": 13
    },
    {
     "cell_type": "code",
     "collapsed": false,
     "input": [
      "arr5 = traj[0, 2:8, :]\n",
      "print type(arr5)\n",
      "print arr5.shape"
     ],
     "language": "python",
     "metadata": {},
     "outputs": [
      {
       "output_type": "stream",
       "stream": "stdout",
       "text": [
        "<type 'numpy.ndarray'>\n",
        "(6, 3)\n"
       ]
      }
     ],
     "prompt_number": 14
    },
    {
     "cell_type": "code",
     "collapsed": false,
     "input": [
      "print arr5[0, 0]\n",
      "arr5[0, 0] = 123.\n",
      "print arr5[0, 0]\n",
      "assert arr5[0, 0] == traj[0, 2, 0]"
     ],
     "language": "python",
     "metadata": {},
     "outputs": [
      {
       "output_type": "stream",
       "stream": "stdout",
       "text": [
        "-17.148\n",
        "123.0\n"
       ]
      }
     ],
     "prompt_number": 15
    },
    {
     "cell_type": "code",
     "collapsed": false,
     "input": [
      "arr6 = traj[1:2, :, :]\n",
      "print arr6.shape"
     ],
     "language": "python",
     "metadata": {},
     "outputs": [
      {
       "output_type": "stream",
       "stream": "stdout",
       "text": [
        "(1, 304, 3)\n"
       ]
      }
     ],
     "prompt_number": 16
    },
    {
     "cell_type": "code",
     "collapsed": false,
     "input": [
      "arr6[0, 0, 0] = 1234.\n",
      "print arr6[0, 0, 0]\n",
      "print traj[1:2, :, :][0, 0, 0]"
     ],
     "language": "python",
     "metadata": {},
     "outputs": [
      {
       "output_type": "stream",
       "stream": "stdout",
       "text": [
        "1234.0\n",
        "8.094\n"
       ]
      }
     ],
     "prompt_number": 17
    },
    {
     "cell_type": "code",
     "collapsed": false,
     "input": [
      "print traj[3:5, 0:5, 0:1].shape\n"
     ],
     "language": "python",
     "metadata": {},
     "outputs": [
      {
       "output_type": "stream",
       "stream": "stdout",
       "text": [
        "(2, 5, 1)\n"
       ]
      }
     ],
     "prompt_number": 18
    },
    {
     "cell_type": "code",
     "collapsed": false,
     "input": [
      "print traj[3:5, 0:5, :]"
     ],
     "language": "python",
     "metadata": {},
     "outputs": [
      {
       "output_type": "stream",
       "stream": "stdout",
       "text": [
        "[[[ -4.96    1.233  -7.279]\n",
        "  [ -5.898   0.896  -7.116]\n",
        "  [ -4.647   0.893  -8.177]\n",
        "  [ -5.021   2.238  -7.362]\n",
        "  [ -4.155   0.799  -6.114]]\n",
        "\n",
        " [[ 11.092  -1.919  -4.204]\n",
        "  [ 11.865  -1.816  -4.845]\n",
        "  [ 11.159  -2.797  -3.71 ]\n",
        "  [ 11.095  -1.18   -3.515]\n",
        "  [  9.83   -1.849  -4.991]]]\n"
       ]
      }
     ],
     "prompt_number": 20
    },
    {
     "cell_type": "code",
     "collapsed": false,
     "input": [],
     "language": "python",
     "metadata": {},
     "outputs": []
    }
   ],
   "metadata": {}
  }
 ]
}