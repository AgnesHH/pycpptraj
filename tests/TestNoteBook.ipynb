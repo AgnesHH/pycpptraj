{
 "metadata": {
  "name": "",
  "signature": "sha256:4277b339d3e48736736fd9498b6eb325e52c552bfbbbe6bcb75cd305446a6acc"
 },
 "nbformat": 3,
 "nbformat_minor": 0,
 "worksheets": [
  {
   "cells": [
    {
     "cell_type": "code",
     "collapsed": false,
     "input": [
      "import pycpptraj\n",
      "from pycpptraj import io as mdio"
     ],
     "language": "python",
     "metadata": {},
     "outputs": [],
     "prompt_number": 1
    },
    {
     "cell_type": "code",
     "collapsed": false,
     "input": [
      "traj = mdio.load(\"./data/md1_prod.Tc5b.x\", \"./data/Tc5b.top\")[:]"
     ],
     "language": "python",
     "metadata": {},
     "outputs": [],
     "prompt_number": 2
    },
    {
     "cell_type": "code",
     "collapsed": false,
     "input": [
      "# test memoryview\n",
      "arr0 = traj[:, :, :]"
     ],
     "language": "python",
     "metadata": {},
     "outputs": [],
     "prompt_number": 3
    },
    {
     "cell_type": "code",
     "collapsed": false,
     "input": [
      "print traj[0, 0, 0]\n",
      "arr0[0][0, 0] = 100.\n",
      "print traj[0, 0, 0]\n",
      "print arr0[0][0, 0]\n",
      "print type(arr0)"
     ],
     "language": "python",
     "metadata": {},
     "outputs": [
      {
       "output_type": "stream",
       "stream": "stdout",
       "text": [
        "-16.492\n",
        "-16.492\n",
        "100.0\n",
        "<type 'list'>\n"
       ]
      }
     ],
     "prompt_number": 4
    },
    {
     "cell_type": "code",
     "collapsed": false,
     "input": [
      "print type(arr0)"
     ],
     "language": "python",
     "metadata": {},
     "outputs": [
      {
       "output_type": "stream",
       "stream": "stdout",
       "text": [
        "<type 'list'>\n"
       ]
      }
     ],
     "prompt_number": 5
    },
    {
     "cell_type": "code",
     "collapsed": false,
     "input": [
      "arr1 = traj[:, 0, 0]\n",
      "print arr1"
     ],
     "language": "python",
     "metadata": {},
     "outputs": [
      {
       "output_type": "stream",
       "stream": "stdout",
       "text": [
        "[-16.492  12.434 -11.018]\n"
       ]
      }
     ],
     "prompt_number": 6
    },
    {
     "cell_type": "code",
     "collapsed": false,
     "input": [
      "print arr1\n",
      "print arr1.shape\n",
      "arr1[0] = 2.3\n",
      "print traj[:, 0, 0]\n",
      "print arr1\n",
      "print type(arr1)\n",
      "frame0 = traj[0]\n",
      "arr2 = frame0[:]\n",
      "print arr2[0]\n",
      "arr2[0, 0] = 2.93\n",
      "print arr2[0, 0]\n",
      "print frame0[0, 0]\n",
      "print arr1[0]\n",
      "print arr1[:]"
     ],
     "language": "python",
     "metadata": {},
     "outputs": [
      {
       "output_type": "stream",
       "stream": "stdout",
       "text": [
        "[-16.492  12.434 -11.018]\n",
        "(3,)\n",
        "[-16.492  12.434 -11.018]"
       ]
      },
      {
       "output_type": "stream",
       "stream": "stdout",
       "text": [
        "\n",
        "[-2.438  6.175  1.564]\n",
        "<type 'numpy.ndarray'>\n",
        "[-16.492  12.434 -11.018]\n",
        "2.93\n",
        "2.93\n",
        "-2.438\n",
        "[-2.438  6.175  1.564]\n"
       ]
      }
     ],
     "prompt_number": 7
    },
    {
     "cell_type": "code",
     "collapsed": false,
     "input": [
      "arr3 = traj[0, :]"
     ],
     "language": "python",
     "metadata": {},
     "outputs": [],
     "prompt_number": 8
    },
    {
     "cell_type": "code",
     "collapsed": false,
     "input": [
      "print arr3[0, 0]"
     ],
     "language": "python",
     "metadata": {},
     "outputs": [
      {
       "output_type": "stream",
       "stream": "stdout",
       "text": [
        "2.93\n"
       ]
      }
     ],
     "prompt_number": 9
    },
    {
     "cell_type": "code",
     "collapsed": false,
     "input": [
      "arr3[0, 0] = 100.\n",
      "print traj[0, :][0]\n",
      "print arr2[0, 0]\n",
      "print frame0[0, 0]"
     ],
     "language": "python",
     "metadata": {},
     "outputs": [
      {
       "output_type": "stream",
       "stream": "stdout",
       "text": [
        "[ 100.      12.434  -11.018]\n",
        "100.0\n",
        "100.0\n"
       ]
      }
     ],
     "prompt_number": 10
    },
    {
     "cell_type": "code",
     "collapsed": false,
     "input": [
      "print frame0.buffer1d[:3]\n",
      "print frame0.buffer3d[0]\n",
      "print frame0.atoms(0)\n",
      "print dir(frame0)"
     ],
     "language": "python",
     "metadata": {},
     "outputs": [
      {
       "output_type": "stream",
       "stream": "stdout",
       "text": [
        "<MemoryView of 'array' object>\n",
        "<MemoryView of 'array' object>\n",
        "array('d', [100.0, 12.434, -11.018])\n",
        "['VCenterOfMass', 'VGeometricCenter', '__class__', '__delattr__', '__delitem__', '__doc__', '__format__', '__getattribute__', '__getitem__', '__hash__', '__iadd__', '__imul__', '__init__', '__isub__', '__iter__', '__len__', '__mul__', '__new__', '__pyx_vtable__', '__reduce__', '__reduce_ex__', '__repr__', '__rmul__', '__rsub__', '__setattr__', '__setitem__', '__sizeof__', '__str__', '__sub__', '__subclasshook__', 'add_by_mask', 'add_vec3', 'add_xyz', 'atoms', 'box_crd', 'boxview', 'buffer1d', 'buffer3d', 'calc_inertia', 'calc_temperature', 'center_on_origin', 'check_coords_invalid', 'clear_atoms', 'coords', 'copy', 'dist_rmsd', 'divide', 'get_box', 'get_subframe', 'has_box', 'has_vel', 'i_address', 'info', 'is_empty', 'mass', 'n_atoms', 'n_repdims', 'neg_translate', 'py_free_mem', 'rmsd', 'rmsd_centered_ref', 'rmsd_nofit', 'rotate', 'same_coords_as', 'scale', 'set_axis_of_rotation', 'set_box_angles', 'set_coord', 'set_coords_by_map', 'set_frame', 'set_frame_from_mask', 'set_frame_v', 'set_frame_x_m', 'set_from_crd', 'set_nobox', 'size', 'strip_atoms', 'swap_atoms', 't_address', 'temperature', 'trans_rot_trans', 'translate', 'update_atom', 'update_atoms', 'v_address', 'v_xyz', 'zero_coords']\n"
       ]
      }
     ],
     "prompt_number": 13
    },
    {
     "cell_type": "code",
     "collapsed": false,
     "input": [],
     "language": "python",
     "metadata": {},
     "outputs": []
    }
   ],
   "metadata": {}
  }
 ]
}