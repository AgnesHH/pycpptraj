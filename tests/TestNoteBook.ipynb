{
 "metadata": {
  "name": "",
  "signature": "sha256:b4de39d3653c132516a1b193d246e66e7f4f8c35d1962fe81672118cccae524e"
 },
 "nbformat": 3,
 "nbformat_minor": 0,
 "worksheets": [
  {
   "cells": [
    {
     "cell_type": "code",
     "collapsed": false,
     "input": [
      "import pycpptraj\n",
      "from pycpptraj import io as mdio"
     ],
     "language": "python",
     "metadata": {},
     "outputs": [],
     "prompt_number": 1
    },
    {
     "cell_type": "code",
     "collapsed": false,
     "input": [
      "traj = mdio.load(\"./data/md1_prod.Tc5b.x\", \"./data/Tc5b.top\")[:]"
     ],
     "language": "python",
     "metadata": {},
     "outputs": [],
     "prompt_number": 2
    },
    {
     "cell_type": "code",
     "collapsed": false,
     "input": [
      "# test memoryview\n",
      "#print traj[0, :, :]\n",
      "arr0 = traj[0:1, :, :]"
     ],
     "language": "python",
     "metadata": {},
     "outputs": [
      {
       "ename": "TypeError",
       "evalue": "only length-1 arrays can be converted to Python scalars",
       "output_type": "pyerr",
       "traceback": [
        "\u001b[1;31m---------------------------------------------------------------------------\u001b[0m\n\u001b[1;31mTypeError\u001b[0m                                 Traceback (most recent call last)",
        "\u001b[1;32m<ipython-input-8-bdefefcdd774>\u001b[0m in \u001b[0;36m<module>\u001b[1;34m()\u001b[0m\n\u001b[0;32m      1\u001b[0m \u001b[1;31m# test memoryview\u001b[0m\u001b[1;33m\u001b[0m\u001b[1;33m\u001b[0m\u001b[0m\n\u001b[0;32m      2\u001b[0m \u001b[1;31m#print traj[0, :, :]\u001b[0m\u001b[1;33m\u001b[0m\u001b[1;33m\u001b[0m\u001b[0m\n\u001b[1;32m----> 3\u001b[1;33m \u001b[0marr0\u001b[0m \u001b[1;33m=\u001b[0m \u001b[0mtraj\u001b[0m\u001b[1;33m[\u001b[0m\u001b[1;36m0\u001b[0m\u001b[1;33m:\u001b[0m\u001b[1;36m1\u001b[0m\u001b[1;33m,\u001b[0m \u001b[1;33m:\u001b[0m\u001b[1;33m,\u001b[0m \u001b[1;33m:\u001b[0m\u001b[1;33m]\u001b[0m\u001b[1;33m\u001b[0m\u001b[0m\n\u001b[0m",
        "\u001b[1;32m/home/haichit/anaconda/lib/python2.7/site-packages/pycpptraj/FrameArray.so\u001b[0m in \u001b[0;36mpycpptraj.FrameArray.FrameArray.__getitem__ (/cavern/haichit/Programs/pycpptraj_git/pycpptraj/pycpptraj/FrameArray.cpp:4442)\u001b[1;34m()\u001b[0m\n",
        "\u001b[1;31mTypeError\u001b[0m: only length-1 arrays can be converted to Python scalars"
       ]
      }
     ],
     "prompt_number": 8
    },
    {
     "cell_type": "code",
     "collapsed": false,
     "input": [
      "print traj[0, 0, 0]\n",
      "arr0[0][0, 0] = 100.\n",
      "print traj[0, 0, 0]\n",
      "print arr0[0][0, 0]\n",
      "print type(arr0)"
     ],
     "language": "python",
     "metadata": {},
     "outputs": []
    },
    {
     "cell_type": "code",
     "collapsed": false,
     "input": [
      "print type(arr0)"
     ],
     "language": "python",
     "metadata": {},
     "outputs": []
    },
    {
     "cell_type": "code",
     "collapsed": false,
     "input": [
      "arr1 = traj[:, 0, 0]\n",
      "print arr1"
     ],
     "language": "python",
     "metadata": {},
     "outputs": []
    },
    {
     "cell_type": "code",
     "collapsed": false,
     "input": [
      "print arr1\n",
      "print arr1.shape\n",
      "arr1[0] = 2.3\n",
      "print traj[:, 0, 0]\n",
      "print arr1\n",
      "print type(arr1)\n",
      "frame0 = traj[0]\n",
      "arr2 = frame0[:]\n",
      "print arr2[0]\n",
      "arr2[0, 0] = 2.93\n",
      "print arr2[0, 0]\n",
      "print frame0[0, 0]\n",
      "print arr1[0]\n",
      "print arr1[:]"
     ],
     "language": "python",
     "metadata": {},
     "outputs": []
    },
    {
     "cell_type": "code",
     "collapsed": false,
     "input": [
      "arr3 = traj[0, :]"
     ],
     "language": "python",
     "metadata": {},
     "outputs": []
    },
    {
     "cell_type": "code",
     "collapsed": false,
     "input": [
      "print arr3[0, 0]"
     ],
     "language": "python",
     "metadata": {},
     "outputs": []
    },
    {
     "cell_type": "code",
     "collapsed": false,
     "input": [
      "arr3[0, 0] = 100.\n",
      "print traj[0, :][0]\n",
      "print arr2[0, 0]\n",
      "print frame0[0, 0]"
     ],
     "language": "python",
     "metadata": {},
     "outputs": []
    },
    {
     "cell_type": "code",
     "collapsed": false,
     "input": [
      "print frame0.buffer1d[:3]\n",
      "print frame0.buffer3d[0]\n",
      "print frame0.atoms(0)\n"
     ],
     "language": "python",
     "metadata": {},
     "outputs": []
    },
    {
     "cell_type": "code",
     "collapsed": false,
     "input": [
      "arr4 = traj[0:3, 2, :]\n",
      "print type(arr4)"
     ],
     "language": "python",
     "metadata": {},
     "outputs": []
    },
    {
     "cell_type": "code",
     "collapsed": false,
     "input": [
      "print arr4.shape"
     ],
     "language": "python",
     "metadata": {},
     "outputs": []
    },
    {
     "cell_type": "code",
     "collapsed": false,
     "input": [
      "arr5 = traj[0, 2:8, :]\n",
      "print type(arr5)\n",
      "print arr5.shape"
     ],
     "language": "python",
     "metadata": {},
     "outputs": []
    },
    {
     "cell_type": "code",
     "collapsed": false,
     "input": [
      "print arr5[0, 0]\n",
      "arr5[0, 0] = 123.\n",
      "print arr5[0, 0]\n",
      "assert arr5[0, 0] == traj[0, 2, 0]"
     ],
     "language": "python",
     "metadata": {},
     "outputs": []
    },
    {
     "cell_type": "code",
     "collapsed": false,
     "input": [
      "arr6 = traj[1:2, :, :]\n",
      "print arr6.shape"
     ],
     "language": "python",
     "metadata": {},
     "outputs": []
    },
    {
     "cell_type": "code",
     "collapsed": false,
     "input": [
      "arr6[0, 0, 0] = 1234.\n",
      "print arr6[0, 0, 0]\n",
      "print traj[1:2, :, :][0, 0, 0]"
     ],
     "language": "python",
     "metadata": {},
     "outputs": []
    },
    {
     "cell_type": "code",
     "collapsed": false,
     "input": [
      "print traj[3:5, 0:5, 0:1].shape\n"
     ],
     "language": "python",
     "metadata": {},
     "outputs": []
    },
    {
     "cell_type": "code",
     "collapsed": false,
     "input": [],
     "language": "python",
     "metadata": {},
     "outputs": []
    }
   ],
   "metadata": {}
  }
 ]
}